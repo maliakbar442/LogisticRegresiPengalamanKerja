{
 "cells": [
  {
   "cell_type": "code",
   "execution_count": 3,
   "id": "f809e151",
   "metadata": {},
   "outputs": [],
   "source": [
    "import pandas as pd\n",
    "from sklearn.model_selection import train_test_split\n",
    "from sklearn.linear_model import LogisticRegression\n",
    "from sklearn import metrics\n",
    "import seaborn as sn\n",
    "import matplotlib.pyplot as plt\n",
    "\n",
    "candidates = {'toefl': [780,750,690,710,680,730,690,720,740,690,610,690,710,680,770,610,580,650,540,590,620,600,550,550,570,670,660,580,650,660,640,620,660,660,680,650,670,580,590,690],\n",
    "              'ipk': [4,3.9,3.3,3.7,3.9,3.7,2.3,3.3,3.3,1.7,2.7,3.7,3.7,3.3,3.3,3,2.7,3.7,2.7,2.3,3.3,2,2.3,2.7,3,3.3,3.7,2.3,3.7,3.3,3,2.7,4,3.3,3.3,2.3,2.7,3.3,1.7,3.7],\n",
    "              'pengalaman_kerja': [3,4,3,5,4,6,1,4,5,1,3,5,6,4,3,1,4,6,2,3,2,1,4,1,2,6,4,2,6,5,1,2,4,6,5,1,2,1,4,5],\n",
    "              'diterima': [1,1,0,1,0,1,0,1,1,0,0,1,1,0,1,0,0,1,0,0,1,0,0,0,0,1,1,0,1,1,0,0,1,1,1,0,0,0,0,1]\n",
    "              }\n",
    "\n",
    "df = pd.DataFrame(candidates,columns= ['toefl', 'ipk','pengalaman_kerja','diterima'])\n"
   ]
  },
  {
   "cell_type": "code",
   "execution_count": 4,
   "id": "6181b226",
   "metadata": {},
   "outputs": [
    {
     "data": {
      "text/html": [
       "<div>\n",
       "<style scoped>\n",
       "    .dataframe tbody tr th:only-of-type {\n",
       "        vertical-align: middle;\n",
       "    }\n",
       "\n",
       "    .dataframe tbody tr th {\n",
       "        vertical-align: top;\n",
       "    }\n",
       "\n",
       "    .dataframe thead th {\n",
       "        text-align: right;\n",
       "    }\n",
       "</style>\n",
       "<table border=\"1\" class=\"dataframe\">\n",
       "  <thead>\n",
       "    <tr style=\"text-align: right;\">\n",
       "      <th></th>\n",
       "      <th>toefl</th>\n",
       "      <th>ipk</th>\n",
       "      <th>pengalaman_kerja</th>\n",
       "      <th>diterima</th>\n",
       "    </tr>\n",
       "  </thead>\n",
       "  <tbody>\n",
       "    <tr>\n",
       "      <th>count</th>\n",
       "      <td>40.000000</td>\n",
       "      <td>40.000000</td>\n",
       "      <td>40.000000</td>\n",
       "      <td>40.000000</td>\n",
       "    </tr>\n",
       "    <tr>\n",
       "      <th>mean</th>\n",
       "      <td>654.000000</td>\n",
       "      <td>3.095000</td>\n",
       "      <td>3.425000</td>\n",
       "      <td>0.475000</td>\n",
       "    </tr>\n",
       "    <tr>\n",
       "      <th>std</th>\n",
       "      <td>61.427464</td>\n",
       "      <td>0.631218</td>\n",
       "      <td>1.737778</td>\n",
       "      <td>0.505736</td>\n",
       "    </tr>\n",
       "    <tr>\n",
       "      <th>min</th>\n",
       "      <td>540.000000</td>\n",
       "      <td>1.700000</td>\n",
       "      <td>1.000000</td>\n",
       "      <td>0.000000</td>\n",
       "    </tr>\n",
       "    <tr>\n",
       "      <th>25%</th>\n",
       "      <td>607.500000</td>\n",
       "      <td>2.700000</td>\n",
       "      <td>2.000000</td>\n",
       "      <td>0.000000</td>\n",
       "    </tr>\n",
       "    <tr>\n",
       "      <th>50%</th>\n",
       "      <td>660.000000</td>\n",
       "      <td>3.300000</td>\n",
       "      <td>4.000000</td>\n",
       "      <td>0.000000</td>\n",
       "    </tr>\n",
       "    <tr>\n",
       "      <th>75%</th>\n",
       "      <td>690.000000</td>\n",
       "      <td>3.700000</td>\n",
       "      <td>5.000000</td>\n",
       "      <td>1.000000</td>\n",
       "    </tr>\n",
       "    <tr>\n",
       "      <th>max</th>\n",
       "      <td>780.000000</td>\n",
       "      <td>4.000000</td>\n",
       "      <td>6.000000</td>\n",
       "      <td>1.000000</td>\n",
       "    </tr>\n",
       "  </tbody>\n",
       "</table>\n",
       "</div>"
      ],
      "text/plain": [
       "            toefl        ipk  pengalaman_kerja   diterima\n",
       "count   40.000000  40.000000         40.000000  40.000000\n",
       "mean   654.000000   3.095000          3.425000   0.475000\n",
       "std     61.427464   0.631218          1.737778   0.505736\n",
       "min    540.000000   1.700000          1.000000   0.000000\n",
       "25%    607.500000   2.700000          2.000000   0.000000\n",
       "50%    660.000000   3.300000          4.000000   0.000000\n",
       "75%    690.000000   3.700000          5.000000   1.000000\n",
       "max    780.000000   4.000000          6.000000   1.000000"
      ]
     },
     "execution_count": 4,
     "metadata": {},
     "output_type": "execute_result"
    }
   ],
   "source": [
    "df.describe()"
   ]
  },
  {
   "cell_type": "code",
   "execution_count": 5,
   "id": "25604ea1",
   "metadata": {},
   "outputs": [
    {
     "data": {
      "image/png": "[encoded data removed]",
      "text/plain": [
       "<Figure size 864x288 with 3 Axes>"
      ]
     },
     "metadata": {
      "needs_background": "light"
     },
     "output_type": "display_data"
    }
   ],
   "source": [
    "import matplotlib.pyplot as plt \n",
    "import seaborn as sns\n",
    "\n",
    "# Using pairplot we'll visualize the data for correlation\n",
    "sns.pairplot(df, x_vars=[ 'ipk','pengalaman_kerja','toefl'], \n",
    "             y_vars='diterima', height=4, aspect=1, kind='scatter')\n",
    "plt.show()"
   ]
  },
  {
   "cell_type": "code",
   "execution_count": 6,
   "id": "7a59b4f2",
   "metadata": {},
   "outputs": [
    {
     "name": "stdout",
     "output_type": "stream",
     "text": [
      "Accuracy:  0.8333333333333334\n"
     ]
    },
    {
     "data": {
      "image/png": "[encoded data removed]",
      "text/plain": [
       "<Figure size 432x288 with 2 Axes>"
      ]
     },
     "metadata": {
      "needs_background": "light"
     },
     "output_type": "display_data"
    }
   ],
   "source": [
    "\n",
    "#print (df)\n",
    "\n",
    "X = df[['toefl', 'ipk','pengalaman_kerja']]\n",
    "y = df['diterima']\n",
    "\n",
    "X_train,X_test,y_train,y_test = train_test_split(X,y,test_size=0.3,random_state=0)\n",
    "\n",
    "logistic_regression= LogisticRegression()\n",
    "logistic_regression.fit(X_train,y_train)\n",
    "y_pred=logistic_regression.predict(X_test)\n",
    "\n",
    "confusion_matrix = pd.crosstab(y_test, y_pred, rownames=['Actual'], colnames=['Predicted'])\n",
    "sn.heatmap(confusion_matrix, annot=True)\n",
    "\n",
    "print('Accuracy: ',metrics.accuracy_score(y_test, y_pred))\n",
    "plt.show()"
   ]
  },
  {
   "cell_type": "code",
   "execution_count": 7,
   "id": "d0d42362",
   "metadata": {},
   "outputs": [],
   "source": [
    "\n",
    "import seaborn as sns"
   ]
  },
  {
   "cell_type": "code",
   "execution_count": 8,
   "id": "47422d92",
   "metadata": {},
   "outputs": [
    {
     "data": {
      "text/plain": [
       "<seaborn.axisgrid.FacetGrid at 0x2b8942ea190>"
      ]
     },
     "execution_count": 8,
     "metadata": {},
     "output_type": "execute_result"
    },
    {
     "data": {
      "image/png": "[encoded data removed]",
      "text/plain": [
       "<Figure size 554x504 with 1 Axes>"
      ]
     },
     "metadata": {
      "needs_background": "light"
     },
     "output_type": "display_data"
    }
   ],
   "source": [
    "sns.FacetGrid(df, hue=\"diterima\", height=7) \\\n",
    "   .map(plt.scatter, \"ipk\", \"toefl\") \\\n",
    "   .add_legend()"
   ]
  },
  {
   "cell_type": "code",
   "execution_count": 9,
   "id": "f428009a",
   "metadata": {},
   "outputs": [
    {
     "data": {
      "text/plain": [
       "<seaborn.axisgrid.FacetGrid at 0x2b89435b0d0>"
      ]
     },
     "execution_count": 9,
     "metadata": {},
     "output_type": "execute_result"
    },
    {
     "data": {
      "image/png": "[encoded data removed]",
      "text/plain": [
       "<Figure size 554x504 with 1 Axes>"
      ]
     },
     "metadata": {
      "needs_background": "light"
     },
     "output_type": "display_data"
    }
   ],
   "source": [
    "sns.FacetGrid(df, hue=\"diterima\", height=7) \\\n",
    "   .map(plt.scatter, \"pengalaman_kerja\", \"toefl\") \\\n",
    "   .add_legend()"
   ]
  },
  {
   "cell_type": "code",
   "execution_count": 10,
   "id": "1703af01",
   "metadata": {},
   "outputs": [
    {
     "data": {
      "text/plain": [
       "<seaborn.axisgrid.FacetGrid at 0x2b891fb8340>"
      ]
     },
     "execution_count": 10,
     "metadata": {},
     "output_type": "execute_result"
    },
    {
     "data": {
      "image/png": "[encoded data removed]",
      "text/plain": [
       "<Figure size 554x504 with 1 Axes>"
      ]
     },
     "metadata": {
      "needs_background": "light"
     },
     "output_type": "display_data"
    }
   ],
   "source": [
    "sns.FacetGrid(df, hue=\"diterima\", height=7) \\\n",
    "   .map(plt.scatter, \"pengalaman_kerja\", \"ipk\") \\\n",
    "   .add_legend()"
   ]
  },
  {
   "cell_type": "code",
   "execution_count": 11,
   "id": "2bb89716",
   "metadata": {},
   "outputs": [
    {
     "data": {
      "text/plain": [
       "<matplotlib.collections.PathCollection at 0x2b894186f10>"
      ]
     },
     "execution_count": 11,
     "metadata": {},
     "output_type": "execute_result"
    },
    {
     "data": {
      "image/png": "[encoded data removed]",
      "text/plain": [
       "<Figure size 432x288 with 1 Axes>"
      ]
     },
     "metadata": {
      "needs_background": "light"
     },
     "output_type": "display_data"
    }
   ],
   "source": [
    "#plot the relation of each features to the target\n",
    "plt.xlabel(\"Fitur\")\n",
    "plt.ylabel(\"Diterima\")\n",
    "\n",
    "pltX = df[\"toefl\"]\n",
    "pltY = df[\"diterima\"]\n",
    "plt.scatter(pltX, pltY, color=\"blue\", label=\"toefl\")\n",
    "\n",
    "pltX = df[\"ipk\"]\n",
    "pltY = df[\"diterima\"]\n",
    "plt.scatter(pltX, pltY, color=\"green\", label=\"ipk\")\n",
    "\n",
    "# pltX = df[\"work_experience\"]\n",
    "# pltY = df[\"admitted\"]\n",
    "# plt.scatter(pltX, pltY, color=\"red\", label=\"work_experience\")"
   ]
  },
  {
   "cell_type": "code",
   "execution_count": 12,
   "id": "ca65073a",
   "metadata": {},
   "outputs": [
    {
     "data": {
      "text/plain": [
       "<matplotlib.collections.PathCollection at 0x2b8940d7430>"
      ]
     },
     "execution_count": 12,
     "metadata": {},
     "output_type": "execute_result"
    },
    {
     "data": {
      "image/png": "[encoded data removed]",
      "text/plain": [
       "<Figure size 432x288 with 1 Axes>"
      ]
     },
     "metadata": {
      "needs_background": "light"
     },
     "output_type": "display_data"
    }
   ],
   "source": [
    "#plot the relation of each features to the target\n",
    "plt.xlabel(\"Fitur\")\n",
    "plt.ylabel(\"Diterima\")\n",
    "\n",
    "pltX = df[\"toefl\"]\n",
    "pltY = df[\"diterima\"]\n",
    "plt.scatter(pltX, pltY, color=\"blue\", label=\"toefl\")\n",
    "\n",
    "# pltX = df[\"gpa\"]\n",
    "# pltY = df[\"admitted\"]\n",
    "# plt.scatter(pltX, pltY, color=\"green\", label=\"gpa\")\n",
    "\n",
    "pltX = df[\"pengalaman_kerja\"]\n",
    "pltY = df[\"diterima\"]\n",
    "plt.scatter(pltX, pltY, color=\"red\", label=\"pengalaman_kerja\")"
   ]
  },
  {
   "cell_type": "code",
   "execution_count": 13,
   "id": "5719bf9e",
   "metadata": {},
   "outputs": [
    {
     "data": {
      "text/plain": [
       "<matplotlib.collections.PathCollection at 0x2b89208ddc0>"
      ]
     },
     "execution_count": 13,
     "metadata": {},
     "output_type": "execute_result"
    },
    {
     "data": {
      "image/png": "[encoded data removed]",
      "text/plain": [
       "<Figure size 432x288 with 1 Axes>"
      ]
     },
     "metadata": {
      "needs_background": "light"
     },
     "output_type": "display_data"
    }
   ],
   "source": [
    "#plot the relation of each features to the target\n",
    "plt.xlabel(\"Fitur\")\n",
    "plt.ylabel(\"Diterima\")\n",
    "\n",
    "# pltX = df[\"gmat\"]\n",
    "# pltY = df[\"admitted\"]\n",
    "# plt.scatter(pltX, pltY, color=\"blue\", label=\"gmat\")\n",
    "\n",
    "pltX = df[\"ipk\"]\n",
    "pltY = df[\"diterima\"]\n",
    "plt.scatter(pltX, pltY, color=\"green\", label=\"ipk\")\n",
    "\n",
    "pltX = df[\"pengalaman_kerja\"]\n",
    "pltY = df[\"diterima\"]\n",
    "plt.scatter(pltX, pltY, color=\"red\", label=\"pengalaman_kerja\")"
   ]
  },
  {
   "cell_type": "code",
   "execution_count": 14,
   "id": "3f03158f",
   "metadata": {},
   "outputs": [
    {
     "name": "stdout",
     "output_type": "stream",
     "text": [
      "    toefl  ipk  pengalaman_kerja\n",
      "22    550  2.3                 4\n",
      "20    620  3.3                 2\n",
      "25    670  3.3                 6\n",
      "4     680  3.9                 4\n",
      "10    610  2.7                 3\n",
      "15    610  3.0                 1\n",
      "28    650  3.7                 6\n",
      "11    690  3.7                 5\n",
      "18    540  2.7                 2\n",
      "29    660  3.3                 5\n",
      "27    580  2.3                 2\n",
      "35    650  2.3                 1\n",
      "[0 0 1 1 0 0 1 1 0 1 0 0]\n"
     ]
    }
   ],
   "source": [
    "\n",
    "print (X_test) #test dataset\n",
    "print (y_pred) #predicted values"
   ]
  },
  {
   "cell_type": "code",
   "execution_count": 16,
   "id": "da0de285",
   "metadata": {},
   "outputs": [
    {
     "name": "stdout",
     "output_type": "stream",
     "text": [
      "   toefl   ipk  pengalaman_kerja\n",
      "0    590  2.00                 3\n",
      "1    740  3.07                 4\n",
      "2    680  3.03                 6\n",
      "3    610  2.03                 1\n",
      "4    710  3.00                 5\n",
      "[0 1 1 0 1]\n"
     ]
    }
   ],
   "source": [
    "candidate2 = {'toefl': [590,740,680,610,710],\n",
    "              'ipk': [2,3.07,3.03,2.03,3],\n",
    "              'pengalaman_kerja': [3,4,6,1,5]\n",
    "              }\n",
    "df2= pd.DataFrame(candidate2,columns= ['toefl', 'ipk','pengalaman_kerja'])\n",
    "y_pred=logistic_regression.predict(df2)\n",
    "print (df2)\n",
    "print (y_pred)"
   ]
  },
  {
   "cell_type": "code",
   "execution_count": null,
   "id": "0ba04bdb",
   "metadata": {},
   "outputs": [],
   "source": []
  }
 ],
 "metadata": {
  "kernelspec": {
   "display_name": "Python 3",
   "language": "python",
   "name": "python3"
  },
  "language_info": {
   "codemirror_mode": {
    "name": "ipython",
    "version": 3
   },
   "file_extension": ".py",
   "mimetype": "text/x-python",
   "name": "python",
   "nbconvert_exporter": "python",
   "pygments_lexer": "ipython3",
   "version": "3.8.8"
  }
 },
 "nbformat": 4,
 "nbformat_minor": 5
}
